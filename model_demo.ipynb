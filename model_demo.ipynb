{
  "nbformat": 4,
  "nbformat_minor": 0,
  "metadata": {
    "colab": {
      "provenance": [],
      "authorship_tag": "ABX9TyMn+pE79/lGTfxyB8pGCJmo",
      "include_colab_link": true
    },
    "kernelspec": {
      "name": "python3",
      "display_name": "Python 3"
    },
    "language_info": {
      "name": "python"
    }
  },
  "cells": [
    {
      "cell_type": "markdown",
      "metadata": {
        "id": "view-in-github",
        "colab_type": "text"
      },
      "source": [
        "<a href=\"https://colab.research.google.com/github/bibowskii/LLM-T5-small-summarizer/blob/main/model_demo.ipynb\" target=\"_parent\"><img src=\"https://colab.research.google.com/assets/colab-badge.svg\" alt=\"Open In Colab\"/></a>"
      ]
    },
    {
      "cell_type": "code",
      "source": [
        "from google.colab import drive\n",
        "!pip install transformers\n",
        "from transformers import T5Tokenizer, T5ForConditionalGeneration\n",
        "import torch\n",
        "\n",
        "drive.mount('/content/drive')"
      ],
      "metadata": {
        "colab": {
          "base_uri": "https://localhost:8080/"
        },
        "id": "0FTl1p_3tHBo",
        "outputId": "7af9a365-4485-4e0d-cc32-e952cdd8e659"
      },
      "execution_count": 1,
      "outputs": [
        {
          "output_type": "stream",
          "name": "stdout",
          "text": [
            "Requirement already satisfied: transformers in /usr/local/lib/python3.10/dist-packages (4.47.1)\n",
            "Requirement already satisfied: filelock in /usr/local/lib/python3.10/dist-packages (from transformers) (3.16.1)\n",
            "Requirement already satisfied: huggingface-hub<1.0,>=0.24.0 in /usr/local/lib/python3.10/dist-packages (from transformers) (0.27.0)\n",
            "Requirement already satisfied: numpy>=1.17 in /usr/local/lib/python3.10/dist-packages (from transformers) (1.26.4)\n",
            "Requirement already satisfied: packaging>=20.0 in /usr/local/lib/python3.10/dist-packages (from transformers) (24.2)\n",
            "Requirement already satisfied: pyyaml>=5.1 in /usr/local/lib/python3.10/dist-packages (from transformers) (6.0.2)\n",
            "Requirement already satisfied: regex!=2019.12.17 in /usr/local/lib/python3.10/dist-packages (from transformers) (2024.11.6)\n",
            "Requirement already satisfied: requests in /usr/local/lib/python3.10/dist-packages (from transformers) (2.32.3)\n",
            "Requirement already satisfied: tokenizers<0.22,>=0.21 in /usr/local/lib/python3.10/dist-packages (from transformers) (0.21.0)\n",
            "Requirement already satisfied: safetensors>=0.4.1 in /usr/local/lib/python3.10/dist-packages (from transformers) (0.4.5)\n",
            "Requirement already satisfied: tqdm>=4.27 in /usr/local/lib/python3.10/dist-packages (from transformers) (4.67.1)\n",
            "Requirement already satisfied: fsspec>=2023.5.0 in /usr/local/lib/python3.10/dist-packages (from huggingface-hub<1.0,>=0.24.0->transformers) (2024.10.0)\n",
            "Requirement already satisfied: typing-extensions>=3.7.4.3 in /usr/local/lib/python3.10/dist-packages (from huggingface-hub<1.0,>=0.24.0->transformers) (4.12.2)\n",
            "Requirement already satisfied: charset-normalizer<4,>=2 in /usr/local/lib/python3.10/dist-packages (from requests->transformers) (3.4.0)\n",
            "Requirement already satisfied: idna<4,>=2.5 in /usr/local/lib/python3.10/dist-packages (from requests->transformers) (3.10)\n",
            "Requirement already satisfied: urllib3<3,>=1.21.1 in /usr/local/lib/python3.10/dist-packages (from requests->transformers) (2.2.3)\n",
            "Requirement already satisfied: certifi>=2017.4.17 in /usr/local/lib/python3.10/dist-packages (from requests->transformers) (2024.12.14)\n",
            "Mounted at /content/drive\n"
          ]
        }
      ]
    },
    {
      "cell_type": "code",
      "execution_count": 2,
      "metadata": {
        "id": "nwrw_6tzs-1F"
      },
      "outputs": [],
      "source": [
        "myModel = T5ForConditionalGeneration.from_pretrained('/content/drive/MyDrive/LLMmodels/round4/epoch=12')\n",
        "myTokenizer = T5Tokenizer.from_pretrained('/content/drive/MyDrive/LLMmodels/finalTokenizer')\n",
        "\n",
        "def summarize_text(text):\n",
        "    inputs = myTokenizer(text, return_tensors=\"pt\", padding=\"max_length\", truncation=True, max_length=512)\n",
        "\n",
        "    device = torch.device(\"cuda\" if torch.cuda.is_available() else \"cpu\")\n",
        "    myModel.to(device)\n",
        "\n",
        "    summary_ids = myModel.generate(inputs['input_ids'].to(device), attention_mask=inputs['attention_mask'].to(device), max_length=200, min_length=10, do_sample=False)\n",
        "\n",
        "    summary = myTokenizer.decode(summary_ids[0], skip_special_tokens=True)\n",
        "    return summary\n",
        "\n",
        "# Test the summarizer with manual text input\n",
        "#while True:\n",
        "#    text = input(\"Enter the text to summarize (or type 'exit' to quit): \")\n",
        "#    if text.lower() == 'exit':\n",
        "#        break\n",
        "#    print(\"\\nSummary:\", summarize_text(text))"
      ]
    },
    {
      "cell_type": "markdown",
      "source": [
        "Long summaries"
      ],
      "metadata": {
        "id": "h52N60q-kvgZ"
      }
    },
    {
      "cell_type": "code",
      "source": [
        "with open('/content/drive/MyDrive/LLMmodels/iotext/text2.txt', 'r') as f:\n",
        "    text = f.read()\n",
        "summ = summarize_text(text)\n",
        "with open('/content/drive/MyDrive/LLMmodels/iotext/summary22.txt', 'w') as f:\n",
        "    f.write(summ)\n",
        "print(\"\\nSummary:\", summarize_text(text))"
      ],
      "metadata": {
        "colab": {
          "base_uri": "https://localhost:8080/"
        },
        "id": "EVGLHn0G6aiw",
        "outputId": "2f311fdd-0ebb-46f5-9ed2-27f9f16a306b"
      },
      "execution_count": 5,
      "outputs": [
        {
          "output_type": "stream",
          "name": "stdout",
          "text": [
            "\n",
            "Summary: Electric vehicles (EVs) have become more popular in recent years due to their environmental impact, a cleaner alternative to traditional gasoline-powered cars, and the increasing demand for cleaner transportation options. EVs are often powered by renewable energy sources like solar or wind power, which further reduce their carbon footprint. Electric vehicles offer economic advantages, such as lower maintenance costs, and cheaper electricity. The development of fast-charging infrastructure and longer-lasting batteries also addresses concerns about range anxiety and charging time.\n"
          ]
        }
      ]
    },
    {
      "cell_type": "markdown",
      "source": [
        "short summaries"
      ],
      "metadata": {
        "id": "vrfuqiE7k2hj"
      }
    },
    {
      "cell_type": "code",
      "source": [
        "myModelShort = T5ForConditionalGeneration.from_pretrained('/content/drive/MyDrive/LLMmodels/finalModel')\n",
        "myTokenizerShort = T5Tokenizer.from_pretrained('/content/drive/MyDrive/LLMmodels/finalTokenizer')\n",
        "\n",
        "def summarize_text_short(text):\n",
        "    inputs = myTokenizerShort(text, return_tensors=\"pt\", padding=\"max_length\", truncation=True, max_length=512)\n",
        "\n",
        "    device = torch.device(\"cuda\" if torch.cuda.is_available() else \"cpu\")\n",
        "    myModelShort.to(device)\n",
        "\n",
        "    summary_ids = myModelShort.generate(inputs['input_ids'].to(device), attention_mask=inputs['attention_mask'].to(device), max_length=200, min_length=0, do_sample=False)\n",
        "\n",
        "    summary = myTokenizerShort.decode(summary_ids[0], skip_special_tokens=True)\n",
        "    return summary\n",
        "\n"
      ],
      "metadata": {
        "id": "tgWx4thxk4Mn"
      },
      "execution_count": 6,
      "outputs": []
    },
    {
      "cell_type": "code",
      "source": [
        "with open('/content/drive/MyDrive/LLMmodels/iotext/text2.txt', 'r') as f:\n",
        "    text = f.read()\n",
        "summ = summarize_text(text)\n",
        "with open('/content/drive/MyDrive/LLMmodels/iotext/summary2.txt', 'w') as f:\n",
        "    f.write(summ)\n",
        "print(\"\\nSummary:\", summarize_text_short(text))"
      ],
      "metadata": {
        "colab": {
          "base_uri": "https://localhost:8080/"
        },
        "outputId": "1a2fffbd-57bd-414a-b929-9044b4935b48",
        "id": "tfisperMlH9u"
      },
      "execution_count": 10,
      "outputs": [
        {
          "output_type": "stream",
          "name": "stdout",
          "text": [
            "\n",
            "Summary: Electric vehicles are becoming more popular in the US and Europe, with the rise of electric vehicles.\n"
          ]
        }
      ]
    }
  ]
}