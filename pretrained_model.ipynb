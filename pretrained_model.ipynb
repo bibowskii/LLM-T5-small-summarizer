{
  "nbformat": 4,
  "nbformat_minor": 0,
  "metadata": {
    "colab": {
      "provenance": []
    },
    "kernelspec": {
      "name": "python3",
      "display_name": "Python 3"
    },
    "language_info": {
      "name": "python"
    }
  },
  "cells": [
    {
      "cell_type": "code",
      "execution_count": null,
      "metadata": {
        "id": "PuZdJEJPVF5_"
      },
      "outputs": [],
      "source": [
        "from transformers import pipeline\n",
        "import transformers\n",
        "\n",
        "summarizer = pipeline(\"summarization\")\n",
        "\n",
        "\n",
        "text = ('please enter ur text')\n",
        "\n",
        "article = ('Fatty liver disease is considered a critical illness that should be diagnosed and detected at an early stage. In advanced stages, liver cancer or cirrhosis arise, and to identify this disease, radiologists commonly use ultrasound images. However, because of their low quality, radiologists found it challenging to recognize this disease using ultrasonic images. To avoid this problem, a Computer-Aided Diagnosis technique is developed in the current study, using Machine Learning Algorithms and a voting-based classifier to categorize liver tissues as being fatty or normal, based on extracting ultrasound image features and a voting-based classifier. Four main contributions are provided by our developed method: firstly, the classification of liver images is achieved as normal or fatty without a segmentation phase. Secondly, compared to our proposed work, the dataset in previous works was insufficient. A combination of 26 features is the third contribution. Based on the proposed methods, the extracted features are Gray-Level Co-Occurrence Matrix (GLCM) and First-Order Statistics (FOS). The fourth contribution is the voting classifier used to determine the liver tissue type. Several trials have been performed by examining the voting-based classifier and J48 algorithm on a dataset. The obtained TP, TN, FP, and FN were 94.28%, 97.14%, 5.71%, and 2.85%, respectively. The achieved precision, sensitivity, specificity, and F1-score were 94.28%, 97.05%, 94.44%, and 95.64%, respectively. The achieved classification accuracy using a voting-based classifier was 95.71% and in the case of using the J48 algorithm was 93.12%. The proposed work achieved a high …')\n",
        "\n",
        "\n",
        "summary = summarizer(article, max_length=130, min_length=30, do_sample=False)\n",
        "print(summary)\n",
        "\n",
        "\n",
        "\n"
      ]
    }
  ]
}